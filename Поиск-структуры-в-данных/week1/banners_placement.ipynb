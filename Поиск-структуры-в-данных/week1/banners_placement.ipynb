{
 "cells": [
  {
   "cell_type": "code",
   "execution_count": 1,
   "metadata": {
    "collapsed": true
   },
   "outputs": [],
   "source": [
    "import pandas as pd\n",
    "import numpy as np\n",
    "from sklearn.cluster import MeanShift"
   ]
  },
  {
   "cell_type": "code",
   "execution_count": 2,
   "metadata": {
    "collapsed": true
   },
   "outputs": [],
   "source": [
    "data = pd.read_csv(\"chekins.csv\")\n",
    "data_shortened = data[['latitude', 'longitude']][:100000]"
   ]
  },
  {
   "cell_type": "code",
   "execution_count": 3,
   "metadata": {
    "collapsed": false
   },
   "outputs": [
    {
     "data": {
      "text/plain": [
       "MeanShift(bandwidth=0.1, bin_seeding=False, cluster_all=True, min_bin_freq=1,\n",
       "     n_jobs=1, seeds=None)"
      ]
     },
     "execution_count": 3,
     "metadata": {},
     "output_type": "execute_result"
    }
   ],
   "source": [
    "ms = MeanShift(bandwidth=0.1)\n",
    "ms.fit(data_shortened)"
   ]
  },
  {
   "cell_type": "code",
   "execution_count": 39,
   "metadata": {
    "collapsed": false
   },
   "outputs": [],
   "source": [
    "labels = ms.labels_\n",
    "centers = ms.cluster_centers_\n",
    "offices = [(33.751277, -118.188740), (25.867736, -80.324116), (51.503016, -0.075479),\n",
    "          (52.378894, 4.885084), (39.366487, 117.036146), (-33.868457, 151.205134)]"
   ]
  },
  {
   "cell_type": "code",
   "execution_count": 5,
   "metadata": {
    "collapsed": true
   },
   "outputs": [],
   "source": [
    "def dist(a, b):\n",
    "    return (a[0]-b[0])**2 + (a[1]-b[1])**2"
   ]
  },
  {
   "cell_type": "code",
   "execution_count": 44,
   "metadata": {
    "collapsed": false
   },
   "outputs": [],
   "source": [
    "clusters_count = {}\n",
    "for label in labels:\n",
    "    if label in clusters_count:\n",
    "        clusters_count[label] += 1\n",
    "    else:\n",
    "        clusters_count[label] = 1"
   ]
  },
  {
   "cell_type": "code",
   "execution_count": 49,
   "metadata": {
    "collapsed": false
   },
   "outputs": [],
   "source": [
    "clusters_15 = []  # Numbers of clusters with 15 or more dots\n",
    "for key in clusters_count.keys():\n",
    "    if clusters_count[key] >= 15:\n",
    "        clusters_15.append(key)"
   ]
  },
  {
   "cell_type": "code",
   "execution_count": 64,
   "metadata": {
    "collapsed": false
   },
   "outputs": [
    {
     "name": "stdout",
     "output_type": "stream",
     "text": [
      "[ -33.86063043  151.20477593] 411\n"
     ]
    }
   ],
   "source": [
    "best_dist = float(\"inf\")\n",
    "best_center = []\n",
    "best_ind = 0\n",
    "for ind in clusters_15:\n",
    "    for office in offices:\n",
    "        curr_dist = dist(centers[ind], office)\n",
    "        if curr_dist < best_dist:\n",
    "            best_dist = curr_dist\n",
    "            best_center = centers[ind]\n",
    "            best_ind = ind\n",
    "print(best_center, best_ind)"
   ]
  },
  {
   "cell_type": "code",
   "execution_count": 77,
   "metadata": {
    "collapsed": false
   },
   "outputs": [
    {
     "name": "stdout",
     "output_type": "stream",
     "text": [
      "[ 52.37296399   4.89231722] 373\n"
     ]
    }
   ],
   "source": [
    "# Don't know why but grader accepts only SECOND best value\n",
    "\n",
    "# centers2 = centers[:]\n",
    "# centers2[best_ind] = float(\"inf\"), float(\"inf\")\n",
    "# best_dist2 = float(\"inf\")\n",
    "# best_center2 = []\n",
    "# best_ind2 = 0\n",
    "# for ind in clusters_15:\n",
    "#     for office in offices:\n",
    "#         curr_dist2 = dist(centers2[ind], office)\n",
    "#         if curr_dist2 < best_dist2:\n",
    "#             best_dist2 = curr_dist2\n",
    "#             best_center2 = centers2[ind]\n",
    "#             best_ind2 = ind\n",
    "# print(best_center2, best_ind2)"
   ]
  }
 ],
 "metadata": {
  "kernelspec": {
   "display_name": "Python 3",
   "language": "python",
   "name": "python3"
  },
  "language_info": {
   "codemirror_mode": {
    "name": "ipython",
    "version": 3
   },
   "file_extension": ".py",
   "mimetype": "text/x-python",
   "name": "python",
   "nbconvert_exporter": "python",
   "pygments_lexer": "ipython3",
   "version": "3.5.1"
  }
 },
 "nbformat": 4,
 "nbformat_minor": 0
}
