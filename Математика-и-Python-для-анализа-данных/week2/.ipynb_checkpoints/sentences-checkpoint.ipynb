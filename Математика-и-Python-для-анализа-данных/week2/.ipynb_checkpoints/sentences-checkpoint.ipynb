{
 "cells": [
  {
   "cell_type": "code",
   "execution_count": 2,
   "metadata": {
    "collapsed": false
   },
   "outputs": [],
   "source": [
    "import re\n",
    "import numpy as np\n",
    "from scipy.spatial.distance import cosine\n",
    "\n",
    "with open(\"sentences.txt\") as f:\n",
    "    data_lines = []\n",
    "    for line in f:\n",
    "        data_lines.append(re.split('[^a-z]', line.lower()))  # Delete all except letters\n",
    "    \n",
    "clean = []\n",
    "for line in data_lines:\n",
    "    clean.append(list(filter(('').__ne__, line)))  # Remove empty words\n",
    "\n",
    "words_lst = {}\n",
    "for line in clean:\n",
    "    for word in line:\n",
    "        if not word in words_lst:\n",
    "            words_lst[word] = len(words_lst)  # Each unique word has its own index\n",
    "\n",
    "mtrx = np.zeros(shape=(len(clean), len(words_lst)))\n",
    "\n",
    "for i in range(mtrx.shape[0]):\n",
    "    for j in range(mtrx.shape[1]):                                      # How many time j-th words\n",
    "        mtrx[i][j] = clean[i].count(                                    # appers in i-th sentence.\n",
    "            list(words_lst.keys())[list(words_lst.values()).index(j)])  # Find the word by its value\n",
    "\n",
    "distance = {} # Distance from 0-th sentence to others\n",
    "for sentence_number in range(1, len(mtrx)):\n",
    "    distance[sentence_number] = cosine(mtrx[0], mtrx[sentence_number])\n",
    "\n",
    "closest = sorted(distance, key=distance.get)[:2]  # [6, 4]\n",
    "\n",
    "with open(\"submission-1.txt\", \"w\") as output:\n",
    "    output.write(str(closest[0]) + \" \" + str(closest[1]))\n"
   ]
  }
 ],
 "metadata": {
  "kernelspec": {
   "display_name": "Python 3",
   "language": "python",
   "name": "python3"
  },
  "language_info": {
   "codemirror_mode": {
    "name": "ipython",
    "version": 3
   },
   "file_extension": ".py",
   "mimetype": "text/x-python",
   "name": "python",
   "nbconvert_exporter": "python",
   "pygments_lexer": "ipython3",
   "version": "3.5.1"
  }
 },
 "nbformat": 4,
 "nbformat_minor": 0
}
