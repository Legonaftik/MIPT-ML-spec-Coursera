{
 "cells": [
  {
   "cell_type": "code",
   "execution_count": 1,
   "metadata": {
    "collapsed": false
   },
   "outputs": [],
   "source": [
    "from sklearn.datasets import load_boston\n",
    "from sklearn.tree import DecisionTreeRegressor\n",
    "from sklearn.metrics import mean_squared_error\n",
    "from sklearn.linear_model import LinearRegression\n",
    "import math"
   ]
  },
  {
   "cell_type": "code",
   "execution_count": 2,
   "metadata": {
    "collapsed": true
   },
   "outputs": [],
   "source": [
    "def gbm_predict(X):\n",
    "    return [sum([coeff * algo.predict([x])[0]\n",
    "                 for algo, coeff in zip(base_algorithms_list, coefficients_list)]) for x in X]"
   ]
  },
  {
   "cell_type": "code",
   "execution_count": 3,
   "metadata": {
    "collapsed": false
   },
   "outputs": [
    {
     "name": "stdout",
     "output_type": "stream",
     "text": [
      "First answer: 5.476650974168948\n"
     ]
    }
   ],
   "source": [
    "length = load_boston().target.shape[0]\n",
    "train_length = int(length*0.75)\n",
    "X_train = load_boston().data[:train_length]\n",
    "X_test = load_boston().data[train_length:]\n",
    "y_train = load_boston().target[:train_length]\n",
    "y_test = load_boston().target[train_length:]\n",
    "des_tree = DecisionTreeRegressor(max_depth=5 ,random_state=42)\n",
    "des_tree.fit(X_train, y_train)\n",
    "base_algorithms_list = [des_tree]\n",
    "coefficients_list = [.9]\n",
    "for i in range(49):\n",
    "    des_tree = DecisionTreeRegressor(max_depth=5 , random_state=42)\n",
    "    des_tree.fit(X_train, y_train - gbm_predict(X_train))\n",
    "    base_algorithms_list.append(des_tree)\n",
    "    coefficients_list.append(.9)\n",
    "\n",
    "print(\"First answer:\", math.sqrt(mean_squared_error(y_test, gbm_predict(X_test))))"
   ]
  },
  {
   "cell_type": "code",
   "execution_count": 4,
   "metadata": {
    "collapsed": false
   },
   "outputs": [
    {
     "name": "stdout",
     "output_type": "stream",
     "text": [
      "Second answer: 5.001441896388829\n"
     ]
    }
   ],
   "source": [
    "base_algorithms_list = [des_tree]\n",
    "coefficients_list = [.9]\n",
    "for i in range(1, 50):\n",
    "    des_tree = DecisionTreeRegressor(max_depth=5 , random_state=42)\n",
    "    des_tree.fit(X_train, y_train - gbm_predict(X_train))\n",
    "    base_algorithms_list.append(des_tree)\n",
    "    coefficients_list.append(.9 / (1.0 + i))\n",
    "\n",
    "print(\"Second answer:\", math.sqrt(mean_squared_error(y_test, gbm_predict(X_test))))"
   ]
  },
  {
   "cell_type": "code",
   "execution_count": 5,
   "metadata": {
    "collapsed": false
   },
   "outputs": [
    {
     "name": "stdout",
     "output_type": "stream",
     "text": [
      "Linear Regression error: 8.27046803494\n"
     ]
    }
   ],
   "source": [
    "from sklearn.metrics import mean_squared_error\n",
    "clf_lin = LinearRegression()\n",
    "clf_lin.fit(X_train, y_train)\n",
    "print(\"Linear Regression error:\", mean_squared_error(y_test, clf_lin.predict(X_test))**0.5)"
   ]
  }
 ],
 "metadata": {
  "kernelspec": {
   "display_name": "Python 3",
   "language": "python",
   "name": "python3"
  },
  "language_info": {
   "codemirror_mode": {
    "name": "ipython",
    "version": 3
   },
   "file_extension": ".py",
   "mimetype": "text/x-python",
   "name": "python",
   "nbconvert_exporter": "python",
   "pygments_lexer": "ipython3",
   "version": "3.5.1"
  }
 },
 "nbformat": 4,
 "nbformat_minor": 0
}
