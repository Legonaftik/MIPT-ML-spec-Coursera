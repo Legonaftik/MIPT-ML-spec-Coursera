{
 "cells": [
  {
   "cell_type": "code",
   "execution_count": 1,
   "metadata": {
    "collapsed": false
   },
   "outputs": [
    {
     "name": "stdout",
     "output_type": "stream",
     "text": [
      "p-values = 0.2845\n"
     ]
    }
   ],
   "source": [
    "# 4\n",
    "import numpy as np\n",
    "from scipy import stats\n",
    "weeks_to_death = np.array((49, 58, 75, 110, 112, 132, 151, 276, 281, 362))\n",
    "mean_death = 200\n",
    "print \"p-values = %.4f\" % stats.wilcoxon(weeks_to_death - mean_death).pvalue  # 0.2845"
   ]
  },
  {
   "cell_type": "code",
   "execution_count": 2,
   "metadata": {
    "collapsed": false
   },
   "outputs": [
    {
     "name": "stdout",
     "output_type": "stream",
     "text": [
      "p-value = 0.0290\n"
     ]
    }
   ],
   "source": [
    "# 5\n",
    "no_cut = np.array((22,22,15,13,19,19,18,20,21,13,13,15))\n",
    "cut = np.array((17,18,18,15,12,4,14,15,10))\n",
    "print \"p-value = %.4f\" % stats.mannwhitneyu(cut, no_cut, alternative=\"less\").pvalue  # 0.0290"
   ]
  },
  {
   "cell_type": "code",
   "execution_count": 3,
   "metadata": {
    "collapsed": false
   },
   "outputs": [
    {
     "name": "stdout",
     "output_type": "stream",
     "text": [
      "95-% confidence interval: [-8.0646, -1.4504]\n"
     ]
    }
   ],
   "source": [
    "# 6\n",
    "def get_bootstrap_samples(data, n_samples):\n",
    "    indices = np.random.randint(0, len(data), (n_samples, len(data)))\n",
    "    samples = data[indices]\n",
    "    return samples\n",
    "\n",
    "def stat_intervals(stat, alpha):\n",
    "    boundaries = np.percentile(stat, [100 * alpha / 2., 100 * (1 - alpha / 2.)])\n",
    "    return boundaries\n",
    "\n",
    "import pandas as pd\n",
    "np.random.seed(0)\n",
    "challenger = pd.read_csv(\"challenger.txt\", sep=\"\\t\")\n",
    "inc = challenger[challenger.Incident==1]\n",
    "no_inc = challenger[challenger.Incident==0]\n",
    "bootstrap_inc = map(np.mean, get_bootstrap_samples(np.array(inc.Temperature), 1000))\n",
    "bootstrap_no_inc = map(np.mean, get_bootstrap_samples(np.array(no_inc.Temperature), 1000))\n",
    "\n",
    "interval = stat_intervals(np.array(bootstrap_inc)-np.array(bootstrap_no_inc), 0.05)\n",
    "print \"95-%% confidence interval: [%.4f, %.4f]\" % (interval[0], interval[1])  # -1.4504"
   ]
  },
  {
   "cell_type": "code",
   "execution_count": 6,
   "metadata": {
    "collapsed": false
   },
   "outputs": [
    {
     "data": {
      "text/plain": [
       "0.0057"
      ]
     },
     "execution_count": 6,
     "metadata": {},
     "output_type": "execute_result"
    }
   ],
   "source": [
    "# 7\n",
    "np.random.seed(0)\n",
    "import itertools\n",
    "\n",
    "def permutation_t_stat_ind(sample1, sample2):\n",
    "    return np.mean(sample1) - np.mean(sample2)\n",
    "\n",
    "def get_random_combinations(n1, n2, max_combinations):\n",
    "    index = range(n1 + n2)\n",
    "    indices = set([tuple(index)])\n",
    "    for i in range(max_combinations - 1):\n",
    "        np.random.shuffle(index)\n",
    "        indices.add(tuple(index))\n",
    "    return [(index[:n1], index[n1:]) for index in indices]\n",
    "\n",
    "def permutation_zero_dist_ind(sample1, sample2, max_combinations = None):\n",
    "    joined_sample = np.hstack((sample1, sample2))\n",
    "    n1 = len(sample1)\n",
    "    n = len(joined_sample)\n",
    "    \n",
    "    if max_combinations:\n",
    "        indices = get_random_combinations(n1, len(sample2), max_combinations)\n",
    "    else:\n",
    "        indices = [(list(index), filter(lambda i: i not in index, range(n))) \\\n",
    "                    for index in itertools.combinations(range(n), n1)]\n",
    "    \n",
    "    distr = [joined_sample[list(i[0])].mean() - joined_sample[list(i[1])].mean() \\\n",
    "             for i in indices]\n",
    "    return distr\n",
    "\n",
    "def permutation_test(sample, mean, max_permutations = None, alternative = 'two-sided'):\n",
    "    if alternative not in ('two-sided', 'less', 'greater'):\n",
    "        raise ValueError(\"alternative not recognized\\n\"\n",
    "                         \"should be 'two-sided', 'less' or 'greater'\")\n",
    "    \n",
    "    t_stat = permutation_t_stat_ind(sample, mean)\n",
    "    \n",
    "    zero_distr = permutation_zero_dist_ind(sample, mean, max_permutations)\n",
    "    \n",
    "    if alternative == 'two-sided':\n",
    "        return sum([1. if abs(x) >= abs(t_stat) else 0. for x in zero_distr]) / len(zero_distr)\n",
    "    \n",
    "    if alternative == 'less':\n",
    "        return sum([1. if x <= t_stat else 0. for x in zero_distr]) / len(zero_distr)\n",
    "\n",
    "    if alternative == 'greater':\n",
    "        return sum([1. if x >= t_stat else 0. for x in zero_distr]) / len(zero_distr)\n",
    "    \n",
    "permutation_test(inc.Temperature, no_inc.Temperature, max_permutations = 10000, alternative=\"two-sided\")  # 0.0057"
   ]
  }
 ],
 "metadata": {
  "kernelspec": {
   "display_name": "Python 2",
   "language": "python",
   "name": "python2"
  },
  "language_info": {
   "codemirror_mode": {
    "name": "ipython",
    "version": 2
   },
   "file_extension": ".py",
   "mimetype": "text/x-python",
   "name": "python",
   "nbconvert_exporter": "python",
   "pygments_lexer": "ipython2",
   "version": "2.7.11"
  }
 },
 "nbformat": 4,
 "nbformat_minor": 0
}
