{
 "cells": [
  {
   "cell_type": "code",
   "execution_count": 1,
   "metadata": {
    "collapsed": true
   },
   "outputs": [],
   "source": [
    "# 5\n",
    "import pandas as pd\n",
    "import numpy as np\n",
    "botswana = pd.read_csv(\"botswana.tsv\", sep=\"\\t\")"
   ]
  },
  {
   "cell_type": "code",
   "execution_count": 2,
   "metadata": {
    "collapsed": false
   },
   "outputs": [
    {
     "data": {
      "text/html": [
       "<div>\n",
       "<table border=\"1\" class=\"dataframe\">\n",
       "  <thead>\n",
       "    <tr style=\"text-align: right;\">\n",
       "      <th></th>\n",
       "      <th>ceb</th>\n",
       "      <th>age</th>\n",
       "      <th>educ</th>\n",
       "      <th>religion</th>\n",
       "      <th>idlnchld</th>\n",
       "      <th>knowmeth</th>\n",
       "      <th>usemeth</th>\n",
       "      <th>evermarr</th>\n",
       "      <th>agefm</th>\n",
       "      <th>heduc</th>\n",
       "      <th>urban</th>\n",
       "      <th>electric</th>\n",
       "      <th>radio</th>\n",
       "      <th>tv</th>\n",
       "      <th>bicycle</th>\n",
       "    </tr>\n",
       "  </thead>\n",
       "  <tbody>\n",
       "    <tr>\n",
       "      <th>0</th>\n",
       "      <td>0</td>\n",
       "      <td>18</td>\n",
       "      <td>10</td>\n",
       "      <td>catholic</td>\n",
       "      <td>4.0</td>\n",
       "      <td>1.0</td>\n",
       "      <td>1.0</td>\n",
       "      <td>0</td>\n",
       "      <td>NaN</td>\n",
       "      <td>NaN</td>\n",
       "      <td>1</td>\n",
       "      <td>1.0</td>\n",
       "      <td>1.0</td>\n",
       "      <td>1.0</td>\n",
       "      <td>1.0</td>\n",
       "    </tr>\n",
       "    <tr>\n",
       "      <th>1</th>\n",
       "      <td>2</td>\n",
       "      <td>43</td>\n",
       "      <td>11</td>\n",
       "      <td>protestant</td>\n",
       "      <td>2.0</td>\n",
       "      <td>1.0</td>\n",
       "      <td>1.0</td>\n",
       "      <td>1</td>\n",
       "      <td>20.0</td>\n",
       "      <td>14.0</td>\n",
       "      <td>1</td>\n",
       "      <td>1.0</td>\n",
       "      <td>1.0</td>\n",
       "      <td>1.0</td>\n",
       "      <td>1.0</td>\n",
       "    </tr>\n",
       "    <tr>\n",
       "      <th>2</th>\n",
       "      <td>0</td>\n",
       "      <td>49</td>\n",
       "      <td>4</td>\n",
       "      <td>spirit</td>\n",
       "      <td>4.0</td>\n",
       "      <td>1.0</td>\n",
       "      <td>0.0</td>\n",
       "      <td>1</td>\n",
       "      <td>22.0</td>\n",
       "      <td>1.0</td>\n",
       "      <td>1</td>\n",
       "      <td>1.0</td>\n",
       "      <td>1.0</td>\n",
       "      <td>0.0</td>\n",
       "      <td>0.0</td>\n",
       "    </tr>\n",
       "    <tr>\n",
       "      <th>3</th>\n",
       "      <td>0</td>\n",
       "      <td>24</td>\n",
       "      <td>12</td>\n",
       "      <td>other</td>\n",
       "      <td>2.0</td>\n",
       "      <td>1.0</td>\n",
       "      <td>0.0</td>\n",
       "      <td>0</td>\n",
       "      <td>NaN</td>\n",
       "      <td>NaN</td>\n",
       "      <td>1</td>\n",
       "      <td>1.0</td>\n",
       "      <td>1.0</td>\n",
       "      <td>1.0</td>\n",
       "      <td>1.0</td>\n",
       "    </tr>\n",
       "    <tr>\n",
       "      <th>4</th>\n",
       "      <td>3</td>\n",
       "      <td>32</td>\n",
       "      <td>13</td>\n",
       "      <td>other</td>\n",
       "      <td>3.0</td>\n",
       "      <td>1.0</td>\n",
       "      <td>1.0</td>\n",
       "      <td>1</td>\n",
       "      <td>24.0</td>\n",
       "      <td>12.0</td>\n",
       "      <td>1</td>\n",
       "      <td>1.0</td>\n",
       "      <td>1.0</td>\n",
       "      <td>1.0</td>\n",
       "      <td>1.0</td>\n",
       "    </tr>\n",
       "  </tbody>\n",
       "</table>\n",
       "</div>"
      ],
      "text/plain": [
       "   ceb  age  educ    religion  idlnchld  knowmeth  usemeth  evermarr  agefm  \\\n",
       "0    0   18    10    catholic       4.0       1.0      1.0         0    NaN   \n",
       "1    2   43    11  protestant       2.0       1.0      1.0         1   20.0   \n",
       "2    0   49     4      spirit       4.0       1.0      0.0         1   22.0   \n",
       "3    0   24    12       other       2.0       1.0      0.0         0    NaN   \n",
       "4    3   32    13       other       3.0       1.0      1.0         1   24.0   \n",
       "\n",
       "   heduc  urban  electric  radio   tv  bicycle  \n",
       "0    NaN      1       1.0    1.0  1.0      1.0  \n",
       "1   14.0      1       1.0    1.0  1.0      1.0  \n",
       "2    1.0      1       1.0    1.0  0.0      0.0  \n",
       "3    NaN      1       1.0    1.0  1.0      1.0  \n",
       "4   12.0      1       1.0    1.0  1.0      1.0  "
      ]
     },
     "execution_count": 2,
     "metadata": {},
     "output_type": "execute_result"
    }
   ],
   "source": [
    "botswana.head()"
   ]
  },
  {
   "cell_type": "code",
   "execution_count": 3,
   "metadata": {
    "collapsed": false
   },
   "outputs": [
    {
     "name": "stdout",
     "output_type": "stream",
     "text": [
      "4 religions in the sample: ['catholic' 'protestant' 'spirit' 'other']\n"
     ]
    }
   ],
   "source": [
    "religions = botswana.religion.unique()\n",
    "print \"%d religions in the sample: %s\"  % (len(religions), religions)  # 4"
   ]
  },
  {
   "cell_type": "code",
   "execution_count": 4,
   "metadata": {
    "collapsed": false
   },
   "outputs": [
    {
     "name": "stdout",
     "output_type": "stream",
     "text": [
      "1834 rows without missed values\n"
     ]
    }
   ],
   "source": [
    "# 6\n",
    "print \"%d rows without missed values\" % len(botswana.dropna())"
   ]
  },
  {
   "cell_type": "code",
   "execution_count": 5,
   "metadata": {
    "collapsed": false
   },
   "outputs": [],
   "source": [
    "# 7\n",
    "nevermarr = []\n",
    "for num in botswana.evermarr:\n",
    "    if num == 0:\n",
    "        nevermarr.append(1)\n",
    "    else:\n",
    "        nevermarr.append(0)\n",
    "botswana[\"nevermarr\"] = nevermarr"
   ]
  },
  {
   "cell_type": "code",
   "execution_count": 6,
   "metadata": {
    "collapsed": false
   },
   "outputs": [],
   "source": [
    "botswana = botswana.drop(\"evermarr\", axis=1)"
   ]
  },
  {
   "cell_type": "code",
   "execution_count": 7,
   "metadata": {
    "collapsed": false
   },
   "outputs": [],
   "source": [
    "agefm = botswana.agefm[:]\n",
    "for i in range(botswana.shape[0]):\n",
    "    if np.isnan(botswana.agefm[i]):\n",
    "        agefm[i] = 0\n",
    "botswana.agefm = agefm"
   ]
  },
  {
   "cell_type": "code",
   "execution_count": 8,
   "metadata": {
    "collapsed": false
   },
   "outputs": [],
   "source": [
    "heduc_noans = botswana.heduc[:]\n",
    "for i in range(botswana.shape[0]):\n",
    "    if botswana.nevermarr[i] == 1:\n",
    "        heduc_noans[i] = -1\n",
    "botswana.heduc = heduc_noans"
   ]
  },
  {
   "cell_type": "code",
   "execution_count": 9,
   "metadata": {
    "collapsed": false
   },
   "outputs": [
    {
     "name": "stdout",
     "output_type": "stream",
     "text": [
      "123 missing values of husband education after transformations\n"
     ]
    }
   ],
   "source": [
    "print \"%d missing values of husband education after transformations\" % sum(np.isnan(botswana.heduc))"
   ]
  },
  {
   "cell_type": "code",
   "execution_count": 10,
   "metadata": {
    "collapsed": false
   },
   "outputs": [],
   "source": [
    "# 8\n",
    "idlnchld_noans = []\n",
    "for num in botswana.idlnchld:\n",
    "    if num == 0:\n",
    "        idlnchld_noans.append(1)\n",
    "    else:\n",
    "        idlnchld_noans.append(0)\n",
    "botswana[\"idlnchld_noans\"] = idlnchld_noans\n",
    "\n",
    "idlnchld = botswana.idlnchld[:]\n",
    "for i in range(botswana.shape[0]):\n",
    "    if np.isnan(botswana.idlnchld[i]):\n",
    "        idlnchld[i] = -1\n",
    "botswana.idlnchld = idlnchld"
   ]
  },
  {
   "cell_type": "code",
   "execution_count": 11,
   "metadata": {
    "collapsed": true
   },
   "outputs": [],
   "source": [
    "heduc_noans = []\n",
    "for num in botswana.heduc:\n",
    "    if num == 0:\n",
    "        heduc_noans.append(1)\n",
    "    else:\n",
    "        heduc_noans.append(0)\n",
    "botswana[\"heduc_noans\"] = heduc_noans\n",
    "\n",
    "heduc = botswana.heduc[:]\n",
    "for i in range(botswana.shape[0]):\n",
    "    if np.isnan(botswana.heduc[i]):\n",
    "        heduc[i] = -2\n",
    "botswana.heduc = heduc"
   ]
  },
  {
   "cell_type": "code",
   "execution_count": 12,
   "metadata": {
    "collapsed": false
   },
   "outputs": [],
   "source": [
    "usemeth_noans = []\n",
    "for num in botswana.usemeth:\n",
    "    if num == 0:\n",
    "        usemeth_noans.append(1)\n",
    "    else:\n",
    "        usemeth_noans.append(0)\n",
    "botswana[\"usemeth_noans\"] = usemeth_noans\n",
    "\n",
    "usemeth = botswana.usemeth[:]\n",
    "for i in range(botswana.shape[0]):\n",
    "    if np.isnan(botswana.usemeth[i]):\n",
    "        usemeth[i] = -1\n",
    "botswana.usemeth = usemeth"
   ]
  },
  {
   "cell_type": "code",
   "execution_count": 13,
   "metadata": {
    "collapsed": true
   },
   "outputs": [],
   "source": [
    "botswana = botswana.dropna()"
   ]
  },
  {
   "cell_type": "code",
   "execution_count": 14,
   "metadata": {
    "collapsed": false
   },
   "outputs": [
    {
     "name": "stdout",
     "output_type": "stream",
     "text": [
      "Size of the matrix without any NaNs: 4348x18\n",
      "78264\n"
     ]
    }
   ],
   "source": [
    "print \"Size of the matrix without any NaNs: %dx%d\" % botswana.shape\n",
    "print botswana.shape[0]*botswana.shape[1]  # 73916"
   ]
  },
  {
   "cell_type": "code",
   "execution_count": 15,
   "metadata": {
    "collapsed": false
   },
   "outputs": [
    {
     "data": {
      "text/html": [
       "<div>\n",
       "<table border=\"1\" class=\"dataframe\">\n",
       "  <thead>\n",
       "    <tr style=\"text-align: right;\">\n",
       "      <th></th>\n",
       "      <th>ceb</th>\n",
       "      <th>age</th>\n",
       "      <th>educ</th>\n",
       "      <th>religion</th>\n",
       "      <th>idlnchld</th>\n",
       "      <th>knowmeth</th>\n",
       "      <th>usemeth</th>\n",
       "      <th>agefm</th>\n",
       "      <th>heduc</th>\n",
       "      <th>urban</th>\n",
       "      <th>electric</th>\n",
       "      <th>radio</th>\n",
       "      <th>tv</th>\n",
       "      <th>bicycle</th>\n",
       "      <th>nevermarr</th>\n",
       "      <th>idlnchld_noans</th>\n",
       "      <th>heduc_noans</th>\n",
       "      <th>usemeth_noans</th>\n",
       "    </tr>\n",
       "  </thead>\n",
       "  <tbody>\n",
       "    <tr>\n",
       "      <th>0</th>\n",
       "      <td>0</td>\n",
       "      <td>18</td>\n",
       "      <td>10</td>\n",
       "      <td>catholic</td>\n",
       "      <td>4.0</td>\n",
       "      <td>1.0</td>\n",
       "      <td>1.0</td>\n",
       "      <td>0.0</td>\n",
       "      <td>-1.0</td>\n",
       "      <td>1</td>\n",
       "      <td>1.0</td>\n",
       "      <td>1.0</td>\n",
       "      <td>1.0</td>\n",
       "      <td>1.0</td>\n",
       "      <td>1</td>\n",
       "      <td>0</td>\n",
       "      <td>0</td>\n",
       "      <td>0</td>\n",
       "    </tr>\n",
       "    <tr>\n",
       "      <th>1</th>\n",
       "      <td>2</td>\n",
       "      <td>43</td>\n",
       "      <td>11</td>\n",
       "      <td>protestant</td>\n",
       "      <td>2.0</td>\n",
       "      <td>1.0</td>\n",
       "      <td>1.0</td>\n",
       "      <td>20.0</td>\n",
       "      <td>14.0</td>\n",
       "      <td>1</td>\n",
       "      <td>1.0</td>\n",
       "      <td>1.0</td>\n",
       "      <td>1.0</td>\n",
       "      <td>1.0</td>\n",
       "      <td>0</td>\n",
       "      <td>0</td>\n",
       "      <td>0</td>\n",
       "      <td>0</td>\n",
       "    </tr>\n",
       "    <tr>\n",
       "      <th>2</th>\n",
       "      <td>0</td>\n",
       "      <td>49</td>\n",
       "      <td>4</td>\n",
       "      <td>spirit</td>\n",
       "      <td>4.0</td>\n",
       "      <td>1.0</td>\n",
       "      <td>0.0</td>\n",
       "      <td>22.0</td>\n",
       "      <td>1.0</td>\n",
       "      <td>1</td>\n",
       "      <td>1.0</td>\n",
       "      <td>1.0</td>\n",
       "      <td>0.0</td>\n",
       "      <td>0.0</td>\n",
       "      <td>0</td>\n",
       "      <td>0</td>\n",
       "      <td>0</td>\n",
       "      <td>1</td>\n",
       "    </tr>\n",
       "    <tr>\n",
       "      <th>3</th>\n",
       "      <td>0</td>\n",
       "      <td>24</td>\n",
       "      <td>12</td>\n",
       "      <td>other</td>\n",
       "      <td>2.0</td>\n",
       "      <td>1.0</td>\n",
       "      <td>0.0</td>\n",
       "      <td>0.0</td>\n",
       "      <td>-1.0</td>\n",
       "      <td>1</td>\n",
       "      <td>1.0</td>\n",
       "      <td>1.0</td>\n",
       "      <td>1.0</td>\n",
       "      <td>1.0</td>\n",
       "      <td>1</td>\n",
       "      <td>0</td>\n",
       "      <td>0</td>\n",
       "      <td>1</td>\n",
       "    </tr>\n",
       "    <tr>\n",
       "      <th>4</th>\n",
       "      <td>3</td>\n",
       "      <td>32</td>\n",
       "      <td>13</td>\n",
       "      <td>other</td>\n",
       "      <td>3.0</td>\n",
       "      <td>1.0</td>\n",
       "      <td>1.0</td>\n",
       "      <td>24.0</td>\n",
       "      <td>12.0</td>\n",
       "      <td>1</td>\n",
       "      <td>1.0</td>\n",
       "      <td>1.0</td>\n",
       "      <td>1.0</td>\n",
       "      <td>1.0</td>\n",
       "      <td>0</td>\n",
       "      <td>0</td>\n",
       "      <td>0</td>\n",
       "      <td>0</td>\n",
       "    </tr>\n",
       "  </tbody>\n",
       "</table>\n",
       "</div>"
      ],
      "text/plain": [
       "   ceb  age  educ    religion  idlnchld  knowmeth  usemeth  agefm  heduc  \\\n",
       "0    0   18    10    catholic       4.0       1.0      1.0    0.0   -1.0   \n",
       "1    2   43    11  protestant       2.0       1.0      1.0   20.0   14.0   \n",
       "2    0   49     4      spirit       4.0       1.0      0.0   22.0    1.0   \n",
       "3    0   24    12       other       2.0       1.0      0.0    0.0   -1.0   \n",
       "4    3   32    13       other       3.0       1.0      1.0   24.0   12.0   \n",
       "\n",
       "   urban  electric  radio   tv  bicycle  nevermarr  idlnchld_noans  \\\n",
       "0      1       1.0    1.0  1.0      1.0          1               0   \n",
       "1      1       1.0    1.0  1.0      1.0          0               0   \n",
       "2      1       1.0    1.0  0.0      0.0          0               0   \n",
       "3      1       1.0    1.0  1.0      1.0          1               0   \n",
       "4      1       1.0    1.0  1.0      1.0          0               0   \n",
       "\n",
       "   heduc_noans  usemeth_noans  \n",
       "0            0              0  \n",
       "1            0              0  \n",
       "2            0              1  \n",
       "3            0              1  \n",
       "4            0              0  "
      ]
     },
     "execution_count": 15,
     "metadata": {},
     "output_type": "execute_result"
    }
   ],
   "source": [
    "botswana.head()"
   ]
  },
  {
   "cell_type": "code",
   "execution_count": 16,
   "metadata": {
    "collapsed": false
   },
   "outputs": [
    {
     "data": {
      "text/html": [
       "<table class=\"simpletable\">\n",
       "<caption>OLS Regression Results</caption>\n",
       "<tr>\n",
       "  <th>Dep. Variable:</th>           <td>ceb</td>       <th>  R-squared:         </th> <td>   0.640</td> \n",
       "</tr>\n",
       "<tr>\n",
       "  <th>Model:</th>                   <td>OLS</td>       <th>  Adj. R-squared:    </th> <td>   0.639</td> \n",
       "</tr>\n",
       "<tr>\n",
       "  <th>Method:</th>             <td>Least Squares</td>  <th>  F-statistic:       </th> <td>   405.4</td> \n",
       "</tr>\n",
       "<tr>\n",
       "  <th>Date:</th>             <td>Tue, 28 Jun 2016</td> <th>  Prob (F-statistic):</th>  <td>  0.00</td>  \n",
       "</tr>\n",
       "<tr>\n",
       "  <th>Time:</th>                 <td>00:07:22</td>     <th>  Log-Likelihood:    </th> <td> -7756.4</td> \n",
       "</tr>\n",
       "<tr>\n",
       "  <th>No. Observations:</th>      <td>  4348</td>      <th>  AIC:               </th> <td>1.555e+04</td>\n",
       "</tr>\n",
       "<tr>\n",
       "  <th>Df Residuals:</th>          <td>  4328</td>      <th>  BIC:               </th> <td>1.568e+04</td>\n",
       "</tr>\n",
       "<tr>\n",
       "  <th>Df Model:</th>              <td>    19</td>      <th>                     </th>     <td> </td>    \n",
       "</tr>\n",
       "<tr>\n",
       "  <th>Covariance Type:</th>      <td>nonrobust</td>    <th>                     </th>     <td> </td>    \n",
       "</tr>\n",
       "</table>\n",
       "<table class=\"simpletable\">\n",
       "<tr>\n",
       "             <td></td>               <th>coef</th>     <th>std err</th>      <th>t</th>      <th>P>|t|</th> <th>[95.0% Conf. Int.]</th> \n",
       "</tr>\n",
       "<tr>\n",
       "  <th>Intercept</th>              <td>   -0.7954</td> <td>    0.244</td> <td>   -3.253</td> <td> 0.001</td> <td>   -1.275    -0.316</td>\n",
       "</tr>\n",
       "<tr>\n",
       "  <th>religion[T.other]</th>      <td>   -0.0740</td> <td>    0.083</td> <td>   -0.887</td> <td> 0.375</td> <td>   -0.237     0.089</td>\n",
       "</tr>\n",
       "<tr>\n",
       "  <th>religion[T.protestant]</th> <td>   -0.0042</td> <td>    0.083</td> <td>   -0.050</td> <td> 0.960</td> <td>   -0.167     0.158</td>\n",
       "</tr>\n",
       "<tr>\n",
       "  <th>religion[T.spirit]</th>     <td>   -0.0031</td> <td>    0.078</td> <td>   -0.039</td> <td> 0.969</td> <td>   -0.156     0.150</td>\n",
       "</tr>\n",
       "<tr>\n",
       "  <th>age</th>                    <td>    0.1721</td> <td>    0.003</td> <td>   52.596</td> <td> 0.000</td> <td>    0.166     0.178</td>\n",
       "</tr>\n",
       "<tr>\n",
       "  <th>educ</th>                   <td>   -0.0787</td> <td>    0.007</td> <td>  -10.701</td> <td> 0.000</td> <td>   -0.093    -0.064</td>\n",
       "</tr>\n",
       "<tr>\n",
       "  <th>idlnchld</th>               <td>    0.0585</td> <td>    0.010</td> <td>    5.917</td> <td> 0.000</td> <td>    0.039     0.078</td>\n",
       "</tr>\n",
       "<tr>\n",
       "  <th>knowmeth</th>               <td>    0.5402</td> <td>    0.122</td> <td>    4.419</td> <td> 0.000</td> <td>    0.301     0.780</td>\n",
       "</tr>\n",
       "<tr>\n",
       "  <th>usemeth</th>                <td>    0.2485</td> <td>    0.091</td> <td>    2.741</td> <td> 0.006</td> <td>    0.071     0.426</td>\n",
       "</tr>\n",
       "<tr>\n",
       "  <th>agefm</th>                  <td>   -0.0611</td> <td>    0.007</td> <td>   -9.268</td> <td> 0.000</td> <td>   -0.074    -0.048</td>\n",
       "</tr>\n",
       "<tr>\n",
       "  <th>heduc</th>                  <td>   -0.0237</td> <td>    0.010</td> <td>   -2.452</td> <td> 0.014</td> <td>   -0.043    -0.005</td>\n",
       "</tr>\n",
       "<tr>\n",
       "  <th>urban</th>                  <td>   -0.2151</td> <td>    0.048</td> <td>   -4.517</td> <td> 0.000</td> <td>   -0.308    -0.122</td>\n",
       "</tr>\n",
       "<tr>\n",
       "  <th>electric</th>               <td>   -0.2988</td> <td>    0.078</td> <td>   -3.850</td> <td> 0.000</td> <td>   -0.451    -0.147</td>\n",
       "</tr>\n",
       "<tr>\n",
       "  <th>radio</th>                  <td>   -0.0224</td> <td>    0.051</td> <td>   -0.436</td> <td> 0.663</td> <td>   -0.123     0.078</td>\n",
       "</tr>\n",
       "<tr>\n",
       "  <th>tv</th>                     <td>   -0.1930</td> <td>    0.093</td> <td>   -2.066</td> <td> 0.039</td> <td>   -0.376    -0.010</td>\n",
       "</tr>\n",
       "<tr>\n",
       "  <th>bicycle</th>                <td>    0.2141</td> <td>    0.050</td> <td>    4.240</td> <td> 0.000</td> <td>    0.115     0.313</td>\n",
       "</tr>\n",
       "<tr>\n",
       "  <th>nevermarr</th>              <td>   -1.9601</td> <td>    0.162</td> <td>  -12.116</td> <td> 0.000</td> <td>   -2.277    -1.643</td>\n",
       "</tr>\n",
       "<tr>\n",
       "  <th>idlnchld_noans</th>         <td>    0.3553</td> <td>    0.320</td> <td>    1.111</td> <td> 0.266</td> <td>   -0.271     0.982</td>\n",
       "</tr>\n",
       "<tr>\n",
       "  <th>heduc_noans</th>            <td>    0.2247</td> <td>    0.093</td> <td>    2.423</td> <td> 0.015</td> <td>    0.043     0.406</td>\n",
       "</tr>\n",
       "<tr>\n",
       "  <th>usemeth_noans</th>          <td>   -0.3782</td> <td>    0.098</td> <td>   -3.844</td> <td> 0.000</td> <td>   -0.571    -0.185</td>\n",
       "</tr>\n",
       "</table>\n",
       "<table class=\"simpletable\">\n",
       "<tr>\n",
       "  <th>Omnibus:</th>       <td>224.779</td> <th>  Durbin-Watson:     </th> <td>   1.883</td> \n",
       "</tr>\n",
       "<tr>\n",
       "  <th>Prob(Omnibus):</th> <td> 0.000</td>  <th>  Jarque-Bera (JB):  </th> <td> 859.030</td> \n",
       "</tr>\n",
       "<tr>\n",
       "  <th>Skew:</th>          <td> 0.024</td>  <th>  Prob(JB):          </th> <td>2.91e-187</td>\n",
       "</tr>\n",
       "<tr>\n",
       "  <th>Kurtosis:</th>      <td> 5.177</td>  <th>  Cond. No.          </th> <td>    469.</td> \n",
       "</tr>\n",
       "</table>"
      ],
      "text/plain": [
       "<class 'statsmodels.iolib.summary.Summary'>\n",
       "\"\"\"\n",
       "                            OLS Regression Results                            \n",
       "==============================================================================\n",
       "Dep. Variable:                    ceb   R-squared:                       0.640\n",
       "Model:                            OLS   Adj. R-squared:                  0.639\n",
       "Method:                 Least Squares   F-statistic:                     405.4\n",
       "Date:                Tue, 28 Jun 2016   Prob (F-statistic):               0.00\n",
       "Time:                        00:07:22   Log-Likelihood:                -7756.4\n",
       "No. Observations:                4348   AIC:                         1.555e+04\n",
       "Df Residuals:                    4328   BIC:                         1.568e+04\n",
       "Df Model:                          19                                         \n",
       "Covariance Type:            nonrobust                                         \n",
       "==========================================================================================\n",
       "                             coef    std err          t      P>|t|      [95.0% Conf. Int.]\n",
       "------------------------------------------------------------------------------------------\n",
       "Intercept                 -0.7954      0.244     -3.253      0.001        -1.275    -0.316\n",
       "religion[T.other]         -0.0740      0.083     -0.887      0.375        -0.237     0.089\n",
       "religion[T.protestant]    -0.0042      0.083     -0.050      0.960        -0.167     0.158\n",
       "religion[T.spirit]        -0.0031      0.078     -0.039      0.969        -0.156     0.150\n",
       "age                        0.1721      0.003     52.596      0.000         0.166     0.178\n",
       "educ                      -0.0787      0.007    -10.701      0.000        -0.093    -0.064\n",
       "idlnchld                   0.0585      0.010      5.917      0.000         0.039     0.078\n",
       "knowmeth                   0.5402      0.122      4.419      0.000         0.301     0.780\n",
       "usemeth                    0.2485      0.091      2.741      0.006         0.071     0.426\n",
       "agefm                     -0.0611      0.007     -9.268      0.000        -0.074    -0.048\n",
       "heduc                     -0.0237      0.010     -2.452      0.014        -0.043    -0.005\n",
       "urban                     -0.2151      0.048     -4.517      0.000        -0.308    -0.122\n",
       "electric                  -0.2988      0.078     -3.850      0.000        -0.451    -0.147\n",
       "radio                     -0.0224      0.051     -0.436      0.663        -0.123     0.078\n",
       "tv                        -0.1930      0.093     -2.066      0.039        -0.376    -0.010\n",
       "bicycle                    0.2141      0.050      4.240      0.000         0.115     0.313\n",
       "nevermarr                 -1.9601      0.162    -12.116      0.000        -2.277    -1.643\n",
       "idlnchld_noans             0.3553      0.320      1.111      0.266        -0.271     0.982\n",
       "heduc_noans                0.2247      0.093      2.423      0.015         0.043     0.406\n",
       "usemeth_noans             -0.3782      0.098     -3.844      0.000        -0.571    -0.185\n",
       "==============================================================================\n",
       "Omnibus:                      224.779   Durbin-Watson:                   1.883\n",
       "Prob(Omnibus):                  0.000   Jarque-Bera (JB):              859.030\n",
       "Skew:                           0.024   Prob(JB):                    2.91e-187\n",
       "Kurtosis:                       5.177   Cond. No.                         469.\n",
       "==============================================================================\n",
       "\n",
       "Warnings:\n",
       "[1] Standard Errors assume that the covariance matrix of the errors is correctly specified.\n",
       "\"\"\""
      ]
     },
     "execution_count": 16,
     "metadata": {},
     "output_type": "execute_result"
    }
   ],
   "source": [
    "# 9\n",
    "import statsmodels.formula.api as smf\n",
    "m1 = smf.ols('ceb ~ age + educ + religion + idlnchld + knowmeth + usemeth +'\\\n",
    "                    'agefm + heduc + urban + electric + radio + tv + bicycle + nevermarr +'\\\n",
    "                    'idlnchld_noans + heduc_noans + usemeth_noans', \n",
    "             data=botswana)\n",
    "fitted = m1.fit()\n",
    "fitted.summary()"
   ]
  },
  {
   "cell_type": "code",
   "execution_count": 17,
   "metadata": {
    "collapsed": false
   },
   "outputs": [
    {
     "name": "stdout",
     "output_type": "stream",
     "text": [
      "Breusch-Pagan test: 6.52202654277e-226\n"
     ]
    }
   ],
   "source": [
    "# 11\n",
    "import statsmodels.stats.api as sms\n",
    "print 'Breusch-Pagan test:', sms.het_breushpagan(fitted.resid, fitted.model.exog)[1]\n",
    "fitted_white = m1.fit(cov_type='HC1')"
   ]
  },
  {
   "cell_type": "code",
   "execution_count": 18,
   "metadata": {
    "collapsed": false
   },
   "outputs": [],
   "source": [
    "# 12\n",
    "m2 = smf.ols('ceb ~ age + educ + idlnchld + knowmeth + usemeth +'\\\n",
    "                    'agefm + heduc + urban + electric + bicycle + nevermarr +'\\\n",
    "                    'idlnchld_noans + heduc_noans + usemeth_noans', \n",
    "             data=botswana)\n",
    "fitted2 = m2.fit()"
   ]
  },
  {
   "cell_type": "code",
   "execution_count": 19,
   "metadata": {
    "collapsed": false
   },
   "outputs": [
    {
     "name": "stdout",
     "output_type": "stream",
     "text": [
      "Breusch-Pagan test: 1.245401016e-228\n"
     ]
    }
   ],
   "source": [
    "print 'Breusch-Pagan test:', sms.het_breushpagan(fitted2.resid, fitted2.model.exog)[1]\n",
    "fitted2_white = m2.fit(cov_type='HC1')"
   ]
  },
  {
   "cell_type": "code",
   "execution_count": 20,
   "metadata": {
    "collapsed": false
   },
   "outputs": [
    {
     "name": "stdout",
     "output_type": "stream",
     "text": [
      "F=1.323748, p=0.250803, k1=5.000000\n"
     ]
    },
    {
     "name": "stderr",
     "output_type": "stream",
     "text": [
      "/home/legonaftik/anaconda3/envs/py27/lib/python2.7/site-packages/statsmodels/regression/linear_model.py:1540: InvalidTestWarning: F test for comparison is likely invalid with robust covariance, proceeding anyway\n",
      "  InvalidTestWarning)\n"
     ]
    }
   ],
   "source": [
    "print \"F=%f, p=%f, k1=%f\" % fitted_white.compare_f_test(fitted2_white)  # 0.2508"
   ]
  },
  {
   "cell_type": "code",
   "execution_count": 21,
   "metadata": {
    "collapsed": false
   },
   "outputs": [
    {
     "name": "stdout",
     "output_type": "stream",
     "text": [
      "(86.311106266355139, 1.7497520886918156e-37, 2.0)\n"
     ]
    },
    {
     "name": "stderr",
     "output_type": "stream",
     "text": [
      "/home/legonaftik/anaconda3/envs/py27/lib/python2.7/site-packages/statsmodels/regression/linear_model.py:1540: InvalidTestWarning: F test for comparison is likely invalid with robust covariance, proceeding anyway\n",
      "  InvalidTestWarning)\n"
     ]
    }
   ],
   "source": [
    "# 13\n",
    "m3 = smf.ols('ceb ~ age + educ + idlnchld + knowmeth +'\\\n",
    "                    'agefm + heduc + urban + electric + bicycle + nevermarr +'\\\n",
    "                    'idlnchld_noans + heduc_noans', \n",
    "             data=botswana)\n",
    "fitted3_white = m3.fit(cov_type='HC1')\n",
    "print fitted2_white.compare_f_test(fitted3_white)  # 37"
   ]
  },
  {
   "cell_type": "code",
   "execution_count": 22,
   "metadata": {
    "collapsed": false
   },
   "outputs": [
    {
     "data": {
      "text/html": [
       "<table class=\"simpletable\">\n",
       "<caption>OLS Regression Results</caption>\n",
       "<tr>\n",
       "  <th>Dep. Variable:</th>           <td>ceb</td>       <th>  R-squared:         </th> <td>   0.625</td> \n",
       "</tr>\n",
       "<tr>\n",
       "  <th>Model:</th>                   <td>OLS</td>       <th>  Adj. R-squared:    </th> <td>   0.624</td> \n",
       "</tr>\n",
       "<tr>\n",
       "  <th>Method:</th>             <td>Least Squares</td>  <th>  F-statistic:       </th> <td>   390.4</td> \n",
       "</tr>\n",
       "<tr>\n",
       "  <th>Date:</th>             <td>Tue, 28 Jun 2016</td> <th>  Prob (F-statistic):</th>  <td>  0.00</td>  \n",
       "</tr>\n",
       "<tr>\n",
       "  <th>Time:</th>                 <td>00:07:22</td>     <th>  Log-Likelihood:    </th> <td> -7844.6</td> \n",
       "</tr>\n",
       "<tr>\n",
       "  <th>No. Observations:</th>      <td>  4348</td>      <th>  AIC:               </th> <td>1.572e+04</td>\n",
       "</tr>\n",
       "<tr>\n",
       "  <th>Df Residuals:</th>          <td>  4335</td>      <th>  BIC:               </th> <td>1.580e+04</td>\n",
       "</tr>\n",
       "<tr>\n",
       "  <th>Df Model:</th>              <td>    12</td>      <th>                     </th>     <td> </td>    \n",
       "</tr>\n",
       "<tr>\n",
       "  <th>Covariance Type:</th>         <td>HC1</td>       <th>                     </th>     <td> </td>    \n",
       "</tr>\n",
       "</table>\n",
       "<table class=\"simpletable\">\n",
       "<tr>\n",
       "         <td></td>           <th>coef</th>     <th>std err</th>      <th>z</th>      <th>P>|z|</th> <th>[95.0% Conf. Int.]</th> \n",
       "</tr>\n",
       "<tr>\n",
       "  <th>Intercept</th>      <td>   -1.2847</td> <td>    0.268</td> <td>   -4.786</td> <td> 0.000</td> <td>   -1.811    -0.759</td>\n",
       "</tr>\n",
       "<tr>\n",
       "  <th>age</th>            <td>    0.1787</td> <td>    0.004</td> <td>   41.419</td> <td> 0.000</td> <td>    0.170     0.187</td>\n",
       "</tr>\n",
       "<tr>\n",
       "  <th>educ</th>           <td>   -0.0623</td> <td>    0.007</td> <td>   -8.665</td> <td> 0.000</td> <td>   -0.076    -0.048</td>\n",
       "</tr>\n",
       "<tr>\n",
       "  <th>idlnchld</th>       <td>    0.0571</td> <td>    0.014</td> <td>    4.043</td> <td> 0.000</td> <td>    0.029     0.085</td>\n",
       "</tr>\n",
       "<tr>\n",
       "  <th>knowmeth</th>       <td>    0.8522</td> <td>    0.172</td> <td>    4.965</td> <td> 0.000</td> <td>    0.516     1.189</td>\n",
       "</tr>\n",
       "<tr>\n",
       "  <th>agefm</th>          <td>   -0.0655</td> <td>    0.010</td> <td>   -6.552</td> <td> 0.000</td> <td>   -0.085    -0.046</td>\n",
       "</tr>\n",
       "<tr>\n",
       "  <th>heduc</th>          <td>   -0.0272</td> <td>    0.011</td> <td>   -2.375</td> <td> 0.018</td> <td>   -0.050    -0.005</td>\n",
       "</tr>\n",
       "<tr>\n",
       "  <th>urban</th>          <td>   -0.1935</td> <td>    0.047</td> <td>   -4.156</td> <td> 0.000</td> <td>   -0.285    -0.102</td>\n",
       "</tr>\n",
       "<tr>\n",
       "  <th>electric</th>       <td>   -0.3613</td> <td>    0.067</td> <td>   -5.388</td> <td> 0.000</td> <td>   -0.493    -0.230</td>\n",
       "</tr>\n",
       "<tr>\n",
       "  <th>bicycle</th>        <td>    0.1972</td> <td>    0.049</td> <td>    4.030</td> <td> 0.000</td> <td>    0.101     0.293</td>\n",
       "</tr>\n",
       "<tr>\n",
       "  <th>nevermarr</th>      <td>   -2.1413</td> <td>    0.227</td> <td>   -9.430</td> <td> 0.000</td> <td>   -2.586    -1.696</td>\n",
       "</tr>\n",
       "<tr>\n",
       "  <th>idlnchld_noans</th> <td>    0.2824</td> <td>    0.203</td> <td>    1.393</td> <td> 0.164</td> <td>   -0.115     0.680</td>\n",
       "</tr>\n",
       "<tr>\n",
       "  <th>heduc_noans</th>    <td>    0.1545</td> <td>    0.126</td> <td>    1.229</td> <td> 0.219</td> <td>   -0.092     0.401</td>\n",
       "</tr>\n",
       "</table>\n",
       "<table class=\"simpletable\">\n",
       "<tr>\n",
       "  <th>Omnibus:</th>       <td>242.708</td> <th>  Durbin-Watson:     </th> <td>   1.904</td> \n",
       "</tr>\n",
       "<tr>\n",
       "  <th>Prob(Omnibus):</th> <td> 0.000</td>  <th>  Jarque-Bera (JB):  </th> <td> 913.674</td> \n",
       "</tr>\n",
       "<tr>\n",
       "  <th>Skew:</th>          <td>-0.131</td>  <th>  Prob(JB):          </th> <td>3.97e-199</td>\n",
       "</tr>\n",
       "<tr>\n",
       "  <th>Kurtosis:</th>      <td> 5.230</td>  <th>  Cond. No.          </th> <td>    467.</td> \n",
       "</tr>\n",
       "</table>"
      ],
      "text/plain": [
       "<class 'statsmodels.iolib.summary.Summary'>\n",
       "\"\"\"\n",
       "                            OLS Regression Results                            \n",
       "==============================================================================\n",
       "Dep. Variable:                    ceb   R-squared:                       0.625\n",
       "Model:                            OLS   Adj. R-squared:                  0.624\n",
       "Method:                 Least Squares   F-statistic:                     390.4\n",
       "Date:                Tue, 28 Jun 2016   Prob (F-statistic):               0.00\n",
       "Time:                        00:07:22   Log-Likelihood:                -7844.6\n",
       "No. Observations:                4348   AIC:                         1.572e+04\n",
       "Df Residuals:                    4335   BIC:                         1.580e+04\n",
       "Df Model:                          12                                         \n",
       "Covariance Type:                  HC1                                         \n",
       "==================================================================================\n",
       "                     coef    std err          z      P>|z|      [95.0% Conf. Int.]\n",
       "----------------------------------------------------------------------------------\n",
       "Intercept         -1.2847      0.268     -4.786      0.000        -1.811    -0.759\n",
       "age                0.1787      0.004     41.419      0.000         0.170     0.187\n",
       "educ              -0.0623      0.007     -8.665      0.000        -0.076    -0.048\n",
       "idlnchld           0.0571      0.014      4.043      0.000         0.029     0.085\n",
       "knowmeth           0.8522      0.172      4.965      0.000         0.516     1.189\n",
       "agefm             -0.0655      0.010     -6.552      0.000        -0.085    -0.046\n",
       "heduc             -0.0272      0.011     -2.375      0.018        -0.050    -0.005\n",
       "urban             -0.1935      0.047     -4.156      0.000        -0.285    -0.102\n",
       "electric          -0.3613      0.067     -5.388      0.000        -0.493    -0.230\n",
       "bicycle            0.1972      0.049      4.030      0.000         0.101     0.293\n",
       "nevermarr         -2.1413      0.227     -9.430      0.000        -2.586    -1.696\n",
       "idlnchld_noans     0.2824      0.203      1.393      0.164        -0.115     0.680\n",
       "heduc_noans        0.1545      0.126      1.229      0.219        -0.092     0.401\n",
       "==============================================================================\n",
       "Omnibus:                      242.708   Durbin-Watson:                   1.904\n",
       "Prob(Omnibus):                  0.000   Jarque-Bera (JB):              913.674\n",
       "Skew:                          -0.131   Prob(JB):                    3.97e-199\n",
       "Kurtosis:                       5.230   Cond. No.                         467.\n",
       "==============================================================================\n",
       "\n",
       "Warnings:\n",
       "[1] Standard Errors are heteroscedasticity robust (HC1)\n",
       "\"\"\""
      ]
     },
     "execution_count": 22,
     "metadata": {},
     "output_type": "execute_result"
    }
   ],
   "source": [
    "fitted3_white.summary()"
   ]
  }
 ],
 "metadata": {
  "kernelspec": {
   "display_name": "Python 2",
   "language": "python",
   "name": "python2"
  },
  "language_info": {
   "codemirror_mode": {
    "name": "ipython",
    "version": 2
   },
   "file_extension": ".py",
   "mimetype": "text/x-python",
   "name": "python",
   "nbconvert_exporter": "python",
   "pygments_lexer": "ipython2",
   "version": "2.7.11"
  }
 },
 "nbformat": 4,
 "nbformat_minor": 0
}
