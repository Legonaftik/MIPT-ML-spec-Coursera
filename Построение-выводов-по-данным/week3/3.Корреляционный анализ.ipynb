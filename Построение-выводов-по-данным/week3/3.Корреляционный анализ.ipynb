{
 "cells": [
  {
   "cell_type": "code",
   "execution_count": 1,
   "metadata": {
    "collapsed": false
   },
   "outputs": [
    {
     "data": {
      "text/html": [
       "<div>\n",
       "<table border=\"1\" class=\"dataframe\">\n",
       "  <thead>\n",
       "    <tr style=\"text-align: right;\">\n",
       "      <th></th>\n",
       "      <th>location</th>\n",
       "      <th>town</th>\n",
       "      <th>mortality</th>\n",
       "      <th>hardness</th>\n",
       "    </tr>\n",
       "  </thead>\n",
       "  <tbody>\n",
       "    <tr>\n",
       "      <th>0</th>\n",
       "      <td>South</td>\n",
       "      <td>Bath</td>\n",
       "      <td>1247</td>\n",
       "      <td>105</td>\n",
       "    </tr>\n",
       "    <tr>\n",
       "      <th>1</th>\n",
       "      <td>North</td>\n",
       "      <td>Birkenhead</td>\n",
       "      <td>1668</td>\n",
       "      <td>17</td>\n",
       "    </tr>\n",
       "    <tr>\n",
       "      <th>2</th>\n",
       "      <td>South</td>\n",
       "      <td>Birmingham</td>\n",
       "      <td>1466</td>\n",
       "      <td>5</td>\n",
       "    </tr>\n",
       "    <tr>\n",
       "      <th>3</th>\n",
       "      <td>North</td>\n",
       "      <td>Blackburn</td>\n",
       "      <td>1800</td>\n",
       "      <td>14</td>\n",
       "    </tr>\n",
       "    <tr>\n",
       "      <th>4</th>\n",
       "      <td>North</td>\n",
       "      <td>Blackpool</td>\n",
       "      <td>1609</td>\n",
       "      <td>18</td>\n",
       "    </tr>\n",
       "  </tbody>\n",
       "</table>\n",
       "</div>"
      ],
      "text/plain": [
       "  location        town  mortality  hardness\n",
       "0    South        Bath       1247       105\n",
       "1    North  Birkenhead       1668        17\n",
       "2    South  Birmingham       1466         5\n",
       "3    North   Blackburn       1800        14\n",
       "4    North   Blackpool       1609        18"
      ]
     },
     "execution_count": 1,
     "metadata": {},
     "output_type": "execute_result"
    }
   ],
   "source": [
    "# 1\n",
    "import pandas as pd\n",
    "water = pd.read_csv(\"water.txt\", sep=\"\\t\")\n",
    "water.head()"
   ]
  },
  {
   "cell_type": "code",
   "execution_count": 2,
   "metadata": {
    "collapsed": false
   },
   "outputs": [
    {
     "name": "stdout",
     "output_type": "stream",
     "text": [
      "Pearson corr = -0.6548\n"
     ]
    }
   ],
   "source": [
    "print \"Pearson corr = %.4f\" % water.mortality.corr(water.hardness)"
   ]
  },
  {
   "cell_type": "code",
   "execution_count": 3,
   "metadata": {
    "collapsed": false
   },
   "outputs": [
    {
     "name": "stdout",
     "output_type": "stream",
     "text": [
      "Spearman corr = -0.6317\n"
     ]
    }
   ],
   "source": [
    "# 2\n",
    "from scipy.stats import spearmanr\n",
    "print \"Spearman corr = %.4f\" % spearmanr(water.mortality, water.hardness).correlation"
   ]
  },
  {
   "cell_type": "code",
   "execution_count": 4,
   "metadata": {
    "collapsed": false
   },
   "outputs": [
    {
     "name": "stdout",
     "output_type": "stream",
     "text": [
      "North corr = -0.3686\n",
      "South corr = -0.6022\n"
     ]
    }
   ],
   "source": [
    "# 3\n",
    "north = water[water.location==\"North\"]\n",
    "south = water[water.location==\"South\"]\n",
    "\n",
    "print \"North corr = %.4f\" % north.mortality.corr(north.hardness)  # -0.3686\n",
    "print \"South corr = %.4f\" % south.mortality.corr(south.hardness)"
   ]
  },
  {
   "cell_type": "code",
   "execution_count": 6,
   "metadata": {
    "collapsed": false
   },
   "outputs": [
    {
     "name": "stdout",
     "output_type": "stream",
     "text": [
      "Mattehews correlation = 0.109\n"
     ]
    }
   ],
   "source": [
    "# 4\n",
    "from math import sqrt\n",
    "\n",
    "def mcc(a, b, c, d):\n",
    "    \"\"\"Mattehews correlation\"\"\"\n",
    "    numerator = a*d-b*c\n",
    "    denominator = sqrt((a+b)*(a+c)*(b+d)*(c+d))\n",
    "    return float(numerator) / denominator\n",
    "\n",
    "a = 239\n",
    "b = 515\n",
    "c = 203\n",
    "d = 718\n",
    "\n",
    "print \"Mattehews correlation = %.3f\" % mcc(a, b, c, d)"
   ]
  },
  {
   "cell_type": "code",
   "execution_count": 7,
   "metadata": {
    "collapsed": false
   },
   "outputs": [
    {
     "name": "stdout",
     "output_type": "stream",
     "text": [
      "p-value = 1.05589870066e-05\n"
     ]
    }
   ],
   "source": [
    "# 5\n",
    "from scipy.stats import chi2_contingency\n",
    "g, p, dof, expctd = chi2_contingency([[a, b], [c, d]])\n",
    "print \"p-value =\", p  # 5"
   ]
  },
  {
   "cell_type": "code",
   "execution_count": 8,
   "metadata": {
    "collapsed": false
   },
   "outputs": [
    {
     "name": "stdout",
     "output_type": "stream",
     "text": [
      "95% confidence interval for a difference between proportions: [0.0539, 0.1392]\n"
     ]
    }
   ],
   "source": [
    "# 6\n",
    "import scipy\n",
    "import numpy as np\n",
    "\n",
    "def proportions_diff_confint_ind(sample1, sample2, alpha = 0.05):    \n",
    "    z = scipy.stats.norm.ppf(1 - alpha / 2.)\n",
    "    \n",
    "    p1 = float(sum(sample1)) / len(sample1)\n",
    "    p2 = float(sum(sample2)) / len(sample2)\n",
    "    \n",
    "    left_boundary = (p1 - p2) - z * np.sqrt(p1 * (1 - p1)/ len(sample1) + p2 * (1 - p2)/ len(sample2))\n",
    "    right_boundary = (p1 - p2) + z * np.sqrt(p1 * (1 - p1)/ len(sample1) + p2 * (1 - p2)/ len(sample2))\n",
    "    \n",
    "    return (left_boundary, right_boundary)\n",
    "    \n",
    "men = [1]*a+[0]*b\n",
    "women = [1]*c+[0]*d\n",
    "\n",
    "print \"95%% confidence interval for a difference between proportions: [%.4f, %.4f]\" % \\\n",
    "                                                proportions_diff_confint_ind(men, women)  # 0.0539"
   ]
  },
  {
   "cell_type": "code",
   "execution_count": 9,
   "metadata": {
    "collapsed": true
   },
   "outputs": [],
   "source": [
    "# 7\n",
    "\n",
    "def proportions_diff_z_stat_ind(sample1, sample2):\n",
    "    n1 = len(sample1)\n",
    "    n2 = len(sample2)\n",
    "    \n",
    "    p1 = float(sum(sample1)) / n1\n",
    "    p2 = float(sum(sample2)) / n2 \n",
    "    P = float(p1*n1 + p2*n2) / (n1 + n2)\n",
    "    \n",
    "    return (p1 - p2) / np.sqrt(P * (1 - P) * (1. / n1 + 1. / n2))"
   ]
  },
  {
   "cell_type": "code",
   "execution_count": 10,
   "metadata": {
    "collapsed": true
   },
   "outputs": [],
   "source": [
    "def proportions_diff_z_test(z_stat, alternative = 'two-sided'):\n",
    "    if alternative not in ('two-sided', 'less', 'greater'):\n",
    "        raise ValueError(\"alternative not recognized\\n\"\n",
    "                         \"should be 'two-sided', 'less' or 'greater'\")\n",
    "    \n",
    "    if alternative == 'two-sided':\n",
    "        return 2 * (1 - scipy.stats.norm.cdf(np.abs(z_stat)))\n",
    "    \n",
    "    if alternative == 'less':\n",
    "        return scipy.stats.norm.cdf(z_stat)\n",
    "\n",
    "    if alternative == 'greater':\n",
    "        return 1 - scipy.stats.norm.cdf(z_stat)"
   ]
  },
  {
   "cell_type": "code",
   "execution_count": 11,
   "metadata": {
    "collapsed": false
   },
   "outputs": [
    {
     "name": "stdout",
     "output_type": "stream",
     "text": [
      "p-value: 0.000008\n"
     ]
    }
   ],
   "source": [
    "print \"p-value: %f\" % proportions_diff_z_test(proportions_diff_z_stat_ind(women, men), \n",
    "                                              alternative=\"two-sided\")  # 6"
   ]
  },
  {
   "cell_type": "code",
   "execution_count": 12,
   "metadata": {
    "collapsed": true
   },
   "outputs": [],
   "source": [
    "# 8\n",
    "\n",
    "# first method\n",
    "def chi_stat(mat):\n",
    "    n = mat.sum()\n",
    "    i_sum = mat.sum(axis=1)\n",
    "    sum_j = mat.sum(axis=0)\n",
    "    stat = 0\n",
    "    for i in range(mat.shape[0]):\n",
    "        for j in range(mat.shape[1]):\n",
    "            stat += (mat[i][j]**2) / float(i_sum[i]) / sum_j[j]\n",
    "    return n * (stat - 1)"
   ]
  },
  {
   "cell_type": "code",
   "execution_count": 13,
   "metadata": {
    "collapsed": true
   },
   "outputs": [],
   "source": [
    "# second method\n",
    "def chi_stat2(mat):\n",
    "    n = mat.sum()\n",
    "    i_sum = mat.sum(axis=1)\n",
    "    sum_j = mat.sum(axis=0)\n",
    "    stat = 0\n",
    "    for i in range(mat.shape[0]):\n",
    "        for j in range(mat.shape[1]):\n",
    "            stat += (mat[i][j] - i_sum[i]*sum_j[j]/float(n))**2 / (i_sum[i]*sum_j[j]/float(n))\n",
    "    return stat"
   ]
  },
  {
   "cell_type": "code",
   "execution_count": 14,
   "metadata": {
    "collapsed": false
   },
   "outputs": [
    {
     "name": "stdout",
     "output_type": "stream",
     "text": [
      "Chi-stat = 293.6831\n"
     ]
    }
   ],
   "source": [
    "mat = np.array([[197, 111, 33],\n",
    "       [382, 685, 331],\n",
    "       [110, 342, 333]])\n",
    "print \"Chi-stat = %.4f\" % chi_stat(mat)"
   ]
  },
  {
   "cell_type": "code",
   "execution_count": 15,
   "metadata": {
    "collapsed": false
   },
   "outputs": [
    {
     "name": "stdout",
     "output_type": "stream",
     "text": [
      "Chi-stat = 293.6831\n"
     ]
    }
   ],
   "source": [
    "print \"Chi-stat = %.4f\" % chi_stat2(mat)"
   ]
  },
  {
   "cell_type": "code",
   "execution_count": 16,
   "metadata": {
    "collapsed": false
   },
   "outputs": [
    {
     "name": "stdout",
     "output_type": "stream",
     "text": [
      "Chi-stat = 293.6831\n",
      "p-value = 2.49642995801e-62\n"
     ]
    }
   ],
   "source": [
    "# 9\n",
    "# third method\n",
    "g, p, dof, expctd = chi2_contingency(mat)\n",
    "print \"Chi-stat = %.4f\" % g\n",
    "print \"p-value =\", p  # 62"
   ]
  },
  {
   "cell_type": "code",
   "execution_count": 112,
   "metadata": {
    "collapsed": false
   },
   "outputs": [
    {
     "name": "stdout",
     "output_type": "stream",
     "text": [
      "Cramers V = 0.2412\n"
     ]
    }
   ],
   "source": [
    "# 10\n",
    "print \"Cramers V = %.4f\" % sqrt(float(g)/mat.sum()/(min(mat.shape[0], mat.shape[1])-1))"
   ]
  }
 ],
 "metadata": {
  "kernelspec": {
   "display_name": "Python 2",
   "language": "python",
   "name": "python2"
  },
  "language_info": {
   "codemirror_mode": {
    "name": "ipython",
    "version": 2
   },
   "file_extension": ".py",
   "mimetype": "text/x-python",
   "name": "python",
   "nbconvert_exporter": "python",
   "pygments_lexer": "ipython2",
   "version": "2.7.11"
  }
 },
 "nbformat": 4,
 "nbformat_minor": 0
}
