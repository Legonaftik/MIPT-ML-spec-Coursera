{
 "cells": [
  {
   "cell_type": "code",
   "execution_count": 1,
   "metadata": {
    "collapsed": false
   },
   "outputs": [
    {
     "name": "stdout",
     "output_type": "stream",
     "text": [
      "99.7 confidence interval has deviation of 2.9677 sigma\n"
     ]
    }
   ],
   "source": [
    "# 1\n",
    "import scipy.stats\n",
    "print \"99.7 confidence interval has deviation of %.4f sigma\" % scipy.stats.norm.ppf(1-0.003/2)  # 2.9677"
   ]
  },
  {
   "cell_type": "markdown",
   "metadata": {},
   "source": [
    "##  2\n",
    "\n",
    "$\\frac{\\bar{X}_n-\\mu}{S_n/\\sqrt{n}}$\n",
    "\n",
    "$St\\left(n-1\\right)$"
   ]
  },
  {
   "cell_type": "markdown",
   "metadata": {},
   "source": [
    "## 3\n",
    "Несимметрическая функция плотности:\n",
    "\n",
    "хи-квадрат, Фишера"
   ]
  },
  {
   "cell_type": "markdown",
   "metadata": {},
   "source": [
    "## 4\n",
    "Какое из выражений задаёт доверительный интервал для разности долей в связанных выборках?\n",
    "\n",
    "$\\frac{f - g}{n} \\pm z_{1-\\frac{\\alpha}{2}}\\sqrt{\\frac{f + g}{n^2} - \\frac{(f - g)^2}{n^3}}$"
   ]
  },
  {
   "cell_type": "code",
   "execution_count": 2,
   "metadata": {
    "collapsed": false
   },
   "outputs": [
    {
     "name": "stdout",
     "output_type": "stream",
     "text": [
      "Chances to be ill decrease by 0.0077 due to aspirine.\n"
     ]
    }
   ],
   "source": [
    "# 5\n",
    "aspirine = 11037\n",
    "placebo = 11034\n",
    "aspirine_ill = 104\n",
    "placebo_ill = 189\n",
    "print \"Chances to be ill decrease by %.4f due to aspirine.\" % (\n",
    "    float(placebo_ill)/placebo - float(aspirine_ill)/aspirine)  # 0.0077"
   ]
  },
  {
   "cell_type": "code",
   "execution_count": 3,
   "metadata": {
    "collapsed": false
   },
   "outputs": [
    {
     "name": "stdout",
     "output_type": "stream",
     "text": [
      "Confidence interval of heart attack rate decrease: [0.0047, 0.0107]\n"
     ]
    }
   ],
   "source": [
    "# 6\n",
    "import numpy as np\n",
    "\n",
    "def proportions_confint_diff_ind(sample1, sample2, alpha = 0.05):    \n",
    "    z = scipy.stats.norm.ppf(1 - alpha / 2.)   \n",
    "    p1 = float(sum(sample1)) / len(sample1)\n",
    "    p2 = float(sum(sample2)) / len(sample2)\n",
    "    left_boundary = (p1 - p2) - z * np.sqrt(p1 * (1 - p1)/ len(sample1) + p2 * (1 - p2)/ len(sample2))\n",
    "    right_boundary = (p1 - p2) + z * np.sqrt(p1 * (1 - p1)/ len(sample1) + p2 * (1 - p2)/ len(sample2))\n",
    "    return (left_boundary, right_boundary)\n",
    "\n",
    "aspirine_sample = [1] * aspirine_ill + [0] * (aspirine-aspirine_ill)\n",
    "placebo_sample = [1] * placebo_ill + [0] * (placebo-placebo_ill)\n",
    "\n",
    "print \"Confidence interval of heart attack rate decrease: [%.4f, %.4f]\" % proportions_confint_diff_ind(\n",
    "    placebo_sample, aspirine_sample) # 0.0107"
   ]
  },
  {
   "cell_type": "code",
   "execution_count": 1,
   "metadata": {
    "collapsed": false
   },
   "outputs": [
    {
     "name": "stdout",
     "output_type": "stream",
     "text": [
      "Chances(odds) decreas by 1.8321 times\n"
     ]
    }
   ],
   "source": [
    "# 7\n",
    "placebo_chances = (189/11034.) / (1-189/11034.)\n",
    "aspirine_chances = (104/11037.) / (1-104/11037.)\n",
    "print \"Chances(odds) decreas by %.4f times\" % (placebo_chances/aspirine_chances)  # 1.8321"
   ]
  },
  {
   "cell_type": "code",
   "execution_count": 5,
   "metadata": {
    "collapsed": false
   },
   "outputs": [
    {
     "name": "stdout",
     "output_type": "stream",
     "text": [
      "Difference will be between 1.4442 and 2.3432\n"
     ]
    }
   ],
   "source": [
    "# 8\n",
    "np.random.seed(0)\n",
    "\n",
    "def get_bootstrap_samples(data, n_samples):\n",
    "    indices = np.random.randint(0, len(data), (n_samples, len(data)))\n",
    "    samples = data[indices]\n",
    "    return samples\n",
    "\n",
    "def stat_intervals(stat, alpha):\n",
    "    boundaries = np.percentile(stat, [100 * alpha / 2., 100 * (1 - alpha / 2.)])\n",
    "    return boundaries\n",
    "\n",
    "# convert into numpy arrays to make functions work\n",
    "arrays_aspirine = np.array(aspirine_sample)\n",
    "arrays_placebo = np.array(placebo_sample)\n",
    "# generate 1000 samples with bootstrap\n",
    "aspirine_bootstrap = get_bootstrap_samples(arrays_aspirine, 1000)\n",
    "placebo_bootstrap = get_bootstrap_samples(arrays_placebo, 1000)\n",
    "# count the odds (the same as in previous 7-th task) for all the samples\n",
    "aspirine_odds = [(sum(x)/float(aspirine)) / (1-sum(x)/float(aspirine)) for x in aspirine_bootstrap]\n",
    "placebo_odds = [sum(x)/float(placebo) / (1-sum(x)/float(placebo)) for x in placebo_bootstrap]\n",
    "# find confidence interval of their change \n",
    "differences = [placebo_odds[i]/aspirine_odds[i] for i in range(len(aspirine_odds))]\n",
    "diff_bounds = stat_intervals(differences, 0.05)\n",
    "print \"Difference will be between %.4f and %.4f\" % (diff_bounds[0], diff_bounds[1])  # 1.4442"
   ]
  }
 ],
 "metadata": {
  "kernelspec": {
   "display_name": "Python 2",
   "language": "python",
   "name": "python2"
  },
  "language_info": {
   "codemirror_mode": {
    "name": "ipython",
    "version": 2
   },
   "file_extension": ".py",
   "mimetype": "text/x-python",
   "name": "python",
   "nbconvert_exporter": "python",
   "pygments_lexer": "ipython2",
   "version": "2.7.11"
  }
 },
 "nbformat": 4,
 "nbformat_minor": 0
}
