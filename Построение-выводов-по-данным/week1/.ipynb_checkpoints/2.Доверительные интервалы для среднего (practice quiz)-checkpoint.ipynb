{
 "cells": [
  {
   "cell_type": "code",
   "execution_count": 1,
   "metadata": {
    "collapsed": true
   },
   "outputs": [],
   "source": [
    "import pandas as pd\n",
    "import numpy as np"
   ]
  },
  {
   "cell_type": "code",
   "execution_count": 2,
   "metadata": {
    "collapsed": true
   },
   "outputs": [],
   "source": [
    "data = pd.read_csv(\"water.txt\", sep=\"\\t\")"
   ]
  },
  {
   "cell_type": "code",
   "execution_count": 3,
   "metadata": {
    "collapsed": false
   },
   "outputs": [
    {
     "data": {
      "text/html": [
       "<div>\n",
       "<table border=\"1\" class=\"dataframe\">\n",
       "  <thead>\n",
       "    <tr style=\"text-align: right;\">\n",
       "      <th></th>\n",
       "      <th>location</th>\n",
       "      <th>town</th>\n",
       "      <th>mortality</th>\n",
       "      <th>hardness</th>\n",
       "    </tr>\n",
       "  </thead>\n",
       "  <tbody>\n",
       "    <tr>\n",
       "      <th>0</th>\n",
       "      <td>South</td>\n",
       "      <td>Bath</td>\n",
       "      <td>1247</td>\n",
       "      <td>105</td>\n",
       "    </tr>\n",
       "    <tr>\n",
       "      <th>1</th>\n",
       "      <td>North</td>\n",
       "      <td>Birkenhead</td>\n",
       "      <td>1668</td>\n",
       "      <td>17</td>\n",
       "    </tr>\n",
       "    <tr>\n",
       "      <th>2</th>\n",
       "      <td>South</td>\n",
       "      <td>Birmingham</td>\n",
       "      <td>1466</td>\n",
       "      <td>5</td>\n",
       "    </tr>\n",
       "    <tr>\n",
       "      <th>3</th>\n",
       "      <td>North</td>\n",
       "      <td>Blackburn</td>\n",
       "      <td>1800</td>\n",
       "      <td>14</td>\n",
       "    </tr>\n",
       "    <tr>\n",
       "      <th>4</th>\n",
       "      <td>North</td>\n",
       "      <td>Blackpool</td>\n",
       "      <td>1609</td>\n",
       "      <td>18</td>\n",
       "    </tr>\n",
       "  </tbody>\n",
       "</table>\n",
       "</div>"
      ],
      "text/plain": [
       "  location        town  mortality  hardness\n",
       "0    South        Bath       1247       105\n",
       "1    North  Birkenhead       1668        17\n",
       "2    South  Birmingham       1466         5\n",
       "3    North   Blackburn       1800        14\n",
       "4    North   Blackpool       1609        18"
      ]
     },
     "execution_count": 3,
     "metadata": {},
     "output_type": "execute_result"
    }
   ],
   "source": [
    "data.head()"
   ]
  },
  {
   "cell_type": "code",
   "execution_count": 4,
   "metadata": {
    "collapsed": false
   },
   "outputs": [
    {
     "name": "stdout",
     "output_type": "stream",
     "text": [
      "Lower bound = 1476.0833\n"
     ]
    }
   ],
   "source": [
    "# 2\n",
    "from statsmodels.stats.weightstats import _tconfint_generic\n",
    "confidence_interval = _tconfint_generic(data['mortality'].mean(), \n",
    "                  data['mortality'].std(ddof=1) / np.sqrt(len(data)),\n",
    "                  len(data) - 1, 0.05, 'two-sided')\n",
    "print \"Lower bound = %.4f\" % confidence_interval[0]"
   ]
  },
  {
   "cell_type": "code",
   "execution_count": 5,
   "metadata": {
    "collapsed": false
   },
   "outputs": [
    {
     "name": "stdout",
     "output_type": "stream",
     "text": [
      "Upper bound for South cities = 1433.4636\n"
     ]
    }
   ],
   "source": [
    "# 3\n",
    "south = data[data.location == \"South\"]\n",
    "south_confidence_interval = _tconfint_generic(south['mortality'].mean(),\n",
    "                                             south['mortality'].std(ddof=1) / np.sqrt(len(south)),\n",
    "                                             len(south)-1, 0.05, 'two-sided')\n",
    "print \"Upper bound for South cities = %.4f\" % south_confidence_interval[1]"
   ]
  },
  {
   "cell_type": "code",
   "execution_count": 6,
   "metadata": {
    "collapsed": false
   },
   "outputs": [
    {
     "name": "stdout",
     "output_type": "stream",
     "text": [
      "South confidence interval = (1320.1517462936238, 1433.463638321761)\n",
      "North confidence interval = (1586.5605251961385, 1680.6394748038613)\n"
     ]
    }
   ],
   "source": [
    "# 4\n",
    "north = data[data.location == \"North\"]\n",
    "north_confidence_interval = _tconfint_generic(north['mortality'].mean(),\n",
    "                                             north['mortality'].std(ddof=1) / np.sqrt(len(north)),\n",
    "                                             len(north)-1, 0.05, 'two-sided')\n",
    "print \"South confidence interval =\", south_confidence_interval\n",
    "print \"North confidence interval =\", north_confidence_interval"
   ]
  },
  {
   "cell_type": "markdown",
   "metadata": {},
   "source": [
    "Confidence intervals do not intersect. It means that there is a significant difference between South and North mortality rate."
   ]
  },
  {
   "cell_type": "code",
   "execution_count": 7,
   "metadata": {
    "collapsed": false
   },
   "outputs": [
    {
     "name": "stdout",
     "output_type": "stream",
     "text": [
      "South water hardness confidence interval: (53.467198692036106, 86.071262846425441)\n",
      "North water hardness confidence interval: (21.422487285724259, 39.377512714275738)\n"
     ]
    }
   ],
   "source": [
    "# 5\n",
    "print \"South water hardness confidence interval:\", _tconfint_generic(south.hardness.mean(),\n",
    "                        south.hardness.std(ddof=1) / np.sqrt(len(south)), \n",
    "                        len(south) - 1, 0.05, 'two-sided')\n",
    "print \"North water hardness confidence interval:\", _tconfint_generic(north.hardness.mean(), \n",
    "                        north.hardness.std(ddof=1) / np.sqrt(len(north)), \n",
    "                        len(north) - 1, 0.05, 'two-sided')"
   ]
  },
  {
   "cell_type": "markdown",
   "metadata": {},
   "source": [
    "Water hardness confidence intervals do not intersect too => significant difference"
   ]
  },
  {
   "cell_type": "markdown",
   "metadata": {},
   "source": [
    "### 6"
   ]
  },
  {
   "cell_type": "markdown",
   "metadata": {},
   "source": [
    "$\\mu$ confidence interval: $\\bar{X}_n \\pm z_{1-\\frac{\\alpha}{2}} \\frac{\\sigma}{\\sqrt{n}}$\n",
    "Build 95% confidence level to estimate $\\mu$ with $0.1$ accuracy:\n",
    "$z_{1 - \\frac{\\alpha}{2}} \\frac{\\sigma}{\\sqrt{n}} = 0.1$\n",
    "\n",
    "It means that: $n = 100 z_{1-\\frac{\\alpha}{2}}^2$"
   ]
  },
  {
   "cell_type": "code",
   "execution_count": 13,
   "metadata": {
    "collapsed": false
   },
   "outputs": [
    {
     "name": "stdout",
     "output_type": "stream",
     "text": [
      "Minimal necessary size of a sample is 385\n"
     ]
    }
   ],
   "source": [
    "# 6\n",
    "import scipy\n",
    "# build 95% confidence level to estimate mu with +=0.1 accuracy\n",
    "# z(1-alpha/2) * sigma / sqrt(n) = 0.1\n",
    "z_095 = scipy.stats.norm.ppf(1-0.05/2)\n",
    "print \"Minimal necessary size of a sample is\", int(np.ceil(z_095**2 * 100))"
   ]
  },
  {
   "cell_type": "markdown",
   "metadata": {},
   "source": [
    "# 7"
   ]
  },
  {
   "cell_type": "markdown",
   "metadata": {},
   "source": [
    "Объём выборки, необходимый для построения доверительного интервала заданной ширины:\n",
    "\n",
    "-уменьшается с ростом $\\alpha$\n",
    "\n",
    "-увеличивается с ростом дисперсии выборки\n",
    "\n",
    "-увеличивается с уменьшением требуемой ширины"
   ]
  }
 ],
 "metadata": {
  "kernelspec": {
   "display_name": "Python 2",
   "language": "python",
   "name": "python2"
  },
  "language_info": {
   "codemirror_mode": {
    "name": "ipython",
    "version": 2
   },
   "file_extension": ".py",
   "mimetype": "text/x-python",
   "name": "python",
   "nbconvert_exporter": "python",
   "pygments_lexer": "ipython2",
   "version": "2.7.11"
  }
 },
 "nbformat": 4,
 "nbformat_minor": 0
}
