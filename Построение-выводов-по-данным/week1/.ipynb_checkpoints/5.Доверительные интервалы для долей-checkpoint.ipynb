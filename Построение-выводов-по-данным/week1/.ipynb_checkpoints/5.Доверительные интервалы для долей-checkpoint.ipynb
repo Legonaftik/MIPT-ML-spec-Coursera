{
 "cells": [
  {
   "cell_type": "markdown",
   "metadata": {},
   "source": [
    "# 1"
   ]
  },
  {
   "cell_type": "markdown",
   "metadata": {},
   "source": [
    "Формулы, задающие доверительный интервал для доли:\n",
    "\n",
    "$\\hat{p}\\pm z_{1-\\frac{\\alpha}{2}} \\sqrt{\\frac{\\hat{p}\\left(1-\\hat{p}\\right)}{n}}$  - нормальный\n",
    "\n",
    "$\\frac1{ 1 + \\frac{z_{1-\\frac{\\alpha}{2}}^2}{n} } \\left( \\hat{p} + \\frac{z_{1-\\frac{\\alpha}{2}}^2}{2n} \\pm z_{1-\\frac{\\alpha}{2}} \\sqrt{ \\frac{ \\hat{p}\\left(1-\\hat{p}\\right)}{n} + \\frac{z_{1-\\frac{\\alpha}{2}}^2}{4n^2} } \\right)$  - Уилсона"
   ]
  },
  {
   "cell_type": "code",
   "execution_count": 1,
   "metadata": {
    "collapsed": false
   },
   "outputs": [
    {
     "name": "stdout",
     "output_type": "stream",
     "text": [
      "Normal interval: [-0.0188, 0.0588]\n",
      "Lower bound: -0.0188\n"
     ]
    }
   ],
   "source": [
    "# 2\n",
    "from statsmodels.stats.proportion import proportion_confint\n",
    "\n",
    "normal_interval = proportion_confint(1, 50, method = 'normal')\n",
    "print \"Normal interval: [%.4f, %.4f]\" % normal_interval\n",
    "print \"Lower bound: %.4f\" % normal_interval[0]"
   ]
  },
  {
   "cell_type": "code",
   "execution_count": 2,
   "metadata": {
    "collapsed": false
   },
   "outputs": [
    {
     "name": "stdout",
     "output_type": "stream",
     "text": [
      "Wilson interval: [0.0035, 0.1050]\n",
      "Lower bound: 0.0035\n"
     ]
    }
   ],
   "source": [
    "# 3\n",
    "wilson_interval = proportion_confint(1, 50, method = 'wilson')\n",
    "print \"Wilson interval: [%.4f, %.4f]\" % wilson_interval\n",
    "print \"Lower bound: %.4f\" % wilson_interval[0]"
   ]
  },
  {
   "cell_type": "markdown",
   "metadata": {},
   "source": [
    "# 4\n",
    "Интервал Уилсона выглядит более вменяемым, так как не принимает отрицательных значений. Это неудивительно; ведь интервал Уилсона как раз применяется в случаях близких к 0 или 1."
   ]
  },
  {
   "cell_type": "code",
   "execution_count": 3,
   "metadata": {
    "collapsed": false
   },
   "outputs": [
    {
     "name": "stdout",
     "output_type": "stream",
     "text": [
      "Necessary number of tests when p=0.02 is 753\n"
     ]
    }
   ],
   "source": [
    "# 5\n",
    "import numpy as np\n",
    "import scipy\n",
    "\n",
    "def maya_interval(p):\n",
    "    return np.ceil((scipy.stats.norm.ppf(1-0.05/2) * np.sqrt(p*(1-p)) / 0.01)**2)\n",
    "\n",
    "print \"Necessary number of tests when p=0.02 is\", int(maya_interval(0.02))"
   ]
  },
  {
   "cell_type": "code",
   "execution_count": 4,
   "metadata": {
    "collapsed": false
   },
   "outputs": [
    {
     "name": "stdout",
     "output_type": "stream",
     "text": [
      "Populating the interactive namespace from numpy and matplotlib\n",
      "Maximum necessary number objects is 9604\n"
     ]
    },
    {
     "data": {
      "image/png": "[encoded data removed]",
      "text/plain": [
       "<matplotlib.figure.Figure at 0x7f20189b3610>"
      ]
     },
     "metadata": {},
     "output_type": "display_data"
    }
   ],
   "source": [
    "# 6\n",
    "import matplotlib.pyplot as plt\n",
    "\n",
    "%pylab inline\n",
    "x = np.linspace(0, 1, 200)\n",
    "y = maya_interval(x)\n",
    "plt.plot(x, y)\n",
    "print \"Maximum necessary number objects is\", int(max(y))"
   ]
  },
  {
   "cell_type": "code",
   "execution_count": 13,
   "metadata": {
    "collapsed": false
   },
   "outputs": [
    {
     "name": "stdout",
     "output_type": "stream",
     "text": [
      "Worst p to make prediction is 0.50\n"
     ]
    }
   ],
   "source": [
    "worst_p = 0\n",
    "worst_n = 0\n",
    "for curr_p in np.linspace(0, 1, 200):\n",
    "    curr_n = maya_interval(curr_p)\n",
    "    if curr_n > worst_n:\n",
    "        worst_n = curr_n\n",
    "        worst_p = curr_p\n",
    "        \n",
    "print \"Worst p to make prediction is %.2f\" % worst_p"
   ]
  }
 ],
 "metadata": {
  "kernelspec": {
   "display_name": "Python 2",
   "language": "python",
   "name": "python2"
  },
  "language_info": {
   "codemirror_mode": {
    "name": "ipython",
    "version": 2
   },
   "file_extension": ".py",
   "mimetype": "text/x-python",
   "name": "python",
   "nbconvert_exporter": "python",
   "pygments_lexer": "ipython2",
   "version": "2.7.11"
  }
 },
 "nbformat": 4,
 "nbformat_minor": 0
}
